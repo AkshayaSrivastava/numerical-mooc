{
 "cells": [
  {
   "cell_type": "markdown",
   "metadata": {},
   "source": [
    "# Relax and Hold Steady - Laplace Equation\n",
    "\n",
    "## Notes:\n",
    "* going to step away from time issues and start working on pure space analyses.\n",
    "* classic example: poisson's equation - $\\nabla^{2} u = f$\n",
    "* use relaxation methods - take a guess at the solution and then run iteratively until you reach the solution - i would imagine you need some tolerance?\n",
    "    * going to start with the homogenous case of the poisson equation, laplace's equation $\\nabla^{2}=0$\n",
    "* use p to denote that this is using potential theory: $$\\frac{\\partial^{2}p}{\\partial x^{2}}+\\frac$$\n",
    "\n",
    "## Code: \n",
    "all the code will follow this cell. This is to ease runtime and to make sure the scope of all variables remains the same. different iterations of the same code with different values or methods of computing the same solution will be in subsquent cells, while code-notes will be commented like usual."
   ]
  },
  {
   "cell_type": "code",
   "execution_count": null,
   "metadata": {
    "collapsed": true
   },
   "outputs": [],
   "source": []
  }
 ],
 "metadata": {
  "kernelspec": {
   "display_name": "Python 3",
   "language": "python",
   "name": "python3"
  },
  "language_info": {
   "codemirror_mode": {
    "name": "ipython",
    "version": 3
   },
   "file_extension": ".py",
   "mimetype": "text/x-python",
   "name": "python",
   "nbconvert_exporter": "python",
   "pygments_lexer": "ipython3",
   "version": "3.4.3"
  }
 },
 "nbformat": 4,
 "nbformat_minor": 0
}
