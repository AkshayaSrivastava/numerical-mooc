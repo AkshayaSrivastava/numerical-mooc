{
 "cells": [
  {
   "cell_type": "markdown",
   "metadata": {},
   "source": [
    "# Relax and Hold Steady - Laplace Equation\n",
    "\n",
    "## Notes:\n",
    "* going to step away from time issues and start working on pure space analyses.\n",
    "* classic example: poisson's equation - $\\nabla^{2} u = f$\n",
    "* use relaxation methods - take a guess at the solution and then run iteratively until you reach the solution - i would imagine you need some tolerance?\n",
    "    * going to start with the homogenous case of the poisson equation, laplace's equation $\\nabla^{2}=0$\n",
    "* use p to denote that this is using potential theory: $$\\frac{\\partial^{2}p}{\\partial x^{2}}+\\frac{\\partial^{2}p}{\\partial y^{2}}=0$$\n",
    "\n",
    "* Before we solve out the laplace equation, let's take a look at the math of the poisson equation, with no assumptions. Doing this gives us a fuller picture of the discretization scheme and what assumptions make valid sense and how they impact the full discretized solutions.\n",
    "    * in order to solve out the poisson equation, we will use $p(x,y)$ to solve out $\\nabla^{2} p(x,y) = f(x,y)$, with the only assumption made is that both $p(x,y)$ and $f(x,y)$ exist in the shared domain $\\Omega$.\n",
    "    * therefore, the problem we are solving for first, before any assumptions are made, is: $\\frac{\\partial^{2}p}{\\partial x^{2}}+\\frac{\\partial^{2}p}{\\partial y^{2}}=f(x,y)$\n",
    "        * we can solve out $\\frac{\\partial^{2} p}{\\partial x^{2}}$ with a central space scheme with $i \\implies x$ and $j \\implies y$:\n",
    "        $$\\begin{gather}\n",
    "        p_{i+1,j} = p_{i,j} + \\left.\\Delta x \\frac{\\partial p}{\\partial x}\\right|_{i,j} + \\left.\\frac{\\Delta x^{2}}{2} \\frac{\\partial^{2} p}{\\partial x^{2}}\\right|_{i,j} + \\left.\\frac{\\Delta x^{3}}{6} \\frac{\\partial^{3} p}{\\partial x^{3}}\\right|_{i,j} + \\left.\\frac{\\Delta x^{4}}{24} \\frac{\\partial^{4} p}{\\partial x^{4}}\\right|_{i,j} \\label{x1}\\tag{1}\\\\\n",
    "        p_{i-1,j} = p_{i,j} - \\left.\\Delta x \\frac{\\partial p}{\\partial x}\\right|_{i,j} + \\left.\\frac{\\Delta x^{2}}{2} \\frac{\\partial^{2} p}{\\partial x^{2}}\\right|_{i,j} - \\left.\\frac{\\Delta x^{3}}{6} \\frac{\\partial^{3} p}{\\partial x^{3}}\\right|_{i,j} + \\left.\\frac{\\Delta x^{4}}{24} \\frac{\\partial^{4} p}{\\partial x^{4}}\\right|_{i,j}\\label{x2}\\tag{2}\n",
    "        \\end{gather}$$ \n",
    "        summing Equation \\ref{x1} and Equation \\ref{x2} together, we get:\n",
    "        $$\\begin{gather}\n",
    "        p_{i+1,j} + p_{i-1,j} = 2p_{i,j} + \\left.\\Delta x^{2} \\frac{\\partial^{2} p}{\\partial x^{2}}\\right|_{i,j} + \\left.\\frac{\\Delta x^{4}}{12} \\frac{\\partial^{4} p}{\\partial x^{4}}\\right|_{i,j}\\\\\n",
    "        \\frac{p_{i+1,j} + p_{i-1,j} - 2p_{i,j}}{\\Delta x^{2}}= \\frac{\\partial^{2} p}{\\partial x^{2}}\\right|_{i,j} + \\left.\\frac{\\Delta x^{2}}{12} \\frac{\\partial^{4} p}{\\partial x^{4}}\\right|_{i,j}\n",
    "        \\end{gather}$$\n",
    "\n",
    "## Code: \n",
    "all the code will follow this cell. This is to ease runtime and to make sure the scope of all variables remains the same. different iterations of the same code with different values or methods of computing the same solution will be in subsquent cells, while code-notes will be commented like usual."
   ]
  },
  {
   "cell_type": "code",
   "execution_count": null,
   "metadata": {
    "collapsed": true
   },
   "outputs": [],
   "source": []
  }
 ],
 "metadata": {
  "kernelspec": {
   "display_name": "Python 3",
   "language": "python",
   "name": "python3"
  },
  "language_info": {
   "codemirror_mode": {
    "name": "ipython",
    "version": 3
   },
   "file_extension": ".py",
   "mimetype": "text/x-python",
   "name": "python",
   "nbconvert_exporter": "python",
   "pygments_lexer": "ipython3",
   "version": "3.4.3"
  }
 },
 "nbformat": 4,
 "nbformat_minor": 0
}
