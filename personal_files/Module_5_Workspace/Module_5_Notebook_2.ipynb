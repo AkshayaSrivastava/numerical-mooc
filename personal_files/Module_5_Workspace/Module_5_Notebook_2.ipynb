{
 "cells": [
  {
   "cell_type": "markdown",
   "metadata": {},
   "source": [
    "# Relax and Hold Steady - Poisson Equation\n",
    "\n",
    "## Notes:\n",
    "\n",
    "### Derivation based on Notebook 1 math\n",
    " * going to start with the homogenous case of the poisson equation, laplace's equation $\\nabla^{2}=0$\n",
    "* use p to denote that this is using potential theory: $$\\frac{\\partial^{2}p}{\\partial x^{2}}+\\frac{\\partial^{2}p}{\\partial y^{2}}=0$$\n",
    "\n",
    "* Before we solve out the laplace equation, let's take a look at the math of the poisson equation, with no assumptions. Doing this gives us a fuller picture of the discretization scheme and what assumptions make valid sense and how they impact the full discretized solutions.\n",
    "    * in order to solve out the poisson equation, we will use $p(x,y)$ to solve out $\\nabla^{2} p(x,y) = f(x,y)$, with the only assumption made is that both $p(x,y)$ and $f(x,y)$ exist in the shared domain $\\Omega$.\n",
    "    * therefore, the problem we are solving for first, before any assumptions are made, is: $\\frac{\\partial^{2}p}{\\partial x^{2}}+\\frac{\\partial^{2}p}{\\partial y^{2}}=f(x,y)$\n",
    "        * we can solve out $\\frac{\\partial^{2} p}{\\partial x^{2}}$ with a central space scheme with $i \\implies x$ and $j \\implies y$:\n",
    "        $$\\begin{gather}\n",
    "        p_{i+1,j} = p_{i,j} + \\left.\\Delta x \\frac{\\partial p}{\\partial x}\\right|_{i,j} + \\left.\\frac{\\Delta x^{2}}{2} \\frac{\\partial^{2} p}{\\partial x^{2}}\\right|_{i,j} + \\left.\\frac{\\Delta x^{3}}{6} \\frac{\\partial^{3} p}{\\partial x^{3}}\\right|_{i,j} + \\left.\\frac{\\Delta x^{4}}{24} \\frac{\\partial^{4} p}{\\partial x^{4}}\\right|_{i,j}\\tag{1}\\\\\n",
    "        p_{i-1,j} = p_{i,j} - \\left.\\Delta x \\frac{\\partial p}{\\partial x}\\right|_{i,j} + \\left.\\frac{\\Delta x^{2}}{2} \\frac{\\partial^{2} p}{\\partial x^{2}}\\right|_{i,j} - \\left.\\frac{\\Delta x^{3}}{6} \\frac{\\partial^{3} p}{\\partial x^{3}}\\right|_{i,j} + \\left.\\frac{\\Delta x^{4}}{24} \\frac{\\partial^{4} p}{\\partial x^{4}}\\right|_{i,j}\\tag{2}\n",
    "        \\end{gather}$$ \n",
    "        summing Equation (1) and Equation (2) together, we get:\n",
    "        $$\\begin{gather}\n",
    "        p_{i+1,j} + p_{i-1,j} = 2p_{i,j} + \\left.\\Delta x^{2} \\frac{\\partial^{2} p}{\\partial x^{2}}\\right|_{i,j} + \\left.\\frac{\\Delta x^{4}}{12} \\frac{\\partial^{4} p}{\\partial x^{4}}\\right|_{i,j}\\tag{3}\\\\\n",
    "        \\frac{p_{i+1,j} + p_{i-1,j} - 2p_{i,j}}{\\Delta x^{2}} = \\left.\\frac{\\partial^{2} p}{\\partial x^{2}}\\right|_{i,j} + \\left.\\frac{\\Delta x^{2}}{12} \\frac{\\partial^{4} p}{\\partial x^{4}}\\right|_{i,j}\\tag{4}\n",
    "        \\end{gather}$$\n",
    "        Allowing $\\left.\\frac{\\Delta x^{2}}{12} \\frac{\\partial^{4} p}{\\partial x^{4}}\\right|_{i,j}\\equiv O(\\Delta x^{2})$, which approximates the order of the error, we can solve out $\\frac{\\partial^{2} p}{\\partial x^{2}}$ into it's final form: \n",
    "        $$\n",
    "        \\frac{p_{i+1,j} + p_{i-1,j} - 2p_{i,j}}{\\Delta x^{2}} - O(\\Delta x^{2}) = \\left.\\frac{\\partial^{2} p}{\\partial x^{2}}\\right|_{i,j}\\tag{5}\n",
    "        $$\n",
    "        * Similarly, we can solve out $\\frac{\\partial^{2} p}{\\partial y^{2}}$ with a central space scheme:\n",
    "        $$\\begin{gather}\n",
    "        p_{i,j+1} = p_{i,j} + \\left.\\Delta y \\frac{\\partial p}{\\partial y}\\right|_{i,j} + \\left.\\frac{\\Delta y^{2}}{2} \\frac{\\partial^{2} p}{\\partial y^{2}}\\right|_{i,j} + \\left.\\frac{\\Delta y^{3}}{6} \\frac{\\partial^{3} p}{\\partial y^{3}}\\right|_{i,j} + \\left.\\frac{\\Delta y^{4}}{24} \\frac{\\partial^{4} p}{\\partial y^{4}}\\right|_{i,j}\\tag{6}\\\\\n",
    "        p_{i,j-1} = p_{i,j} - \\left.\\Delta y \\frac{\\partial p}{\\partial y}\\right|_{i,j} + \\left.\\frac{\\Delta y^{2}}{2} \\frac{\\partial^{2} p}{\\partial y^{2}}\\right|_{i,j} - \\left.\\frac{\\Delta y^{3}}{6} \\frac{\\partial^{3} p}{\\partial y^{3}}\\right|_{i,j} + \\left.\\frac{\\Delta y^{4}}{24} \\frac{\\partial^{4} p}{\\partial y^{4}}\\right|_{i,j}\\tag{7}\n",
    "        \\end{gather}$$ \n",
    "        summing Equation (6) and Equation (7) together, we get:\n",
    "        $$\\begin{gather}\n",
    "        p_{i,j+1} + p_{i,j-1} = 2p_{i,j} + \\left.\\Delta y^{2} \\frac{\\partial^{2} p}{\\partial y^{2}}\\right|_{i,j} + \\left.\\frac{\\Delta y^{4}}{12} \\frac{\\partial^{4} p}{\\partial y^{4}}\\right|_{i,j}\\tag{8}\\\\\n",
    "        \\frac{p_{i,j+1} + p_{i,j-1} - 2p_{i,j}}{\\Delta y^{2}} = \\left.\\frac{\\partial^{2} p}{\\partial y^{2}}\\right|_{i,j} + \\left.\\frac{\\Delta y^{2}}{12} \\frac{\\partial^{4} p}{\\partial y^{4}}\\right|_{i,j}\\tag{9}\n",
    "        \\end{gather}$$\n",
    "        Allowing $\\left.\\frac{\\Delta y^{2}}{12} \\frac{\\partial^{4} p}{\\partial y^{4}}\\right|_{i,j}\\equiv O(\\Delta y^{2})$, which approximates the order of the error, we can solve out $\\frac{\\partial^{2} p}{\\partial y^{2}}$ into it's final form: \n",
    "        $$\n",
    "        \\frac{p_{i,j+1} + p_{i,j-1} - 2p_{i,j}}{\\Delta y^{2}} - O(\\Delta y^{2}) = \\left.\\frac{\\partial^{2} p}{\\partial y^{2}}\\right|_{i,j}\\tag{10}\n",
    "        $$\n",
    "\n",
    "    * From Equation (5) and Equation (10), we can further expand and simplify the poisson equation to:\n",
    "    $$\\begin{gather}\n",
    "    \\frac{p_{i+1,j} + p_{i-1,j} - 2p_{i,j}}{\\Delta x^{2}} - O(\\Delta x^{2}) + \\frac{p_{i,j+1} + p_{i,j-1} - 2p_{i,j}}{\\Delta y^{2}} - O(\\Delta y^{2}) = f(x,y)\\tag{11}\\\\\n",
    "    \\frac{p_{i+1,j} + p_{i-1,j} - 2p_{i,j}}{\\Delta x^{2}} + \\frac{p_{i,j+1} + p_{i,j-1} - 2p_{i,j}}{\\Delta y^{2}} = f(x,y) + O(\\Delta x^{2}) + O(\\Delta y^{2})\\tag{12}\\\\\n",
    "    \\Delta x^{2}(p_{i,j+1} + p_{i,j-1} - 2p_{i,j}) + \\Delta y^{2}(p_{i+1,j} + p_{i-1,j} - 2p_{i,j}) = \\Delta x^{2}\\Delta y^{2}[f(x,y) + O(\\Delta x^{2}) + O(\\Delta y^{2})]\\tag{13}\\\\\n",
    "    \\Delta x^{2}[p_{i,j+1} + p_{i,j-1}] + \\Delta y^{2}[p_{i+1,j} + p_{i-1,j}] - 2p_{i,j}[\\Delta x^{2}+\\Delta y^{2}] = \\Delta x^{2}\\Delta y^{2}[f(x,y) + O(\\Delta x^{2}) + O(\\Delta y^{2})]\\tag{14}\\\\\n",
    "    p_{i,j} = \\frac{\\Delta x^{2}[p_{i,j+1} + p_{i,j-1}] + \\Delta y^{2}[p_{i+1,j} + p_{i-1,j}]-\\Delta x^{2}\\Delta y^{2}[f(x,y) + O(\\Delta x^{2}) + O(\\Delta y^{2})]}{2[\\Delta x^{2}+\\Delta y^{2}]}\\tag{15}\\\\\n",
    "    \\implies p^{k+1}_{i,j} = \\frac{\\Delta x^{2}[p^{k}_{i,j+1} + p^{k}_{i,j-1}] + \\Delta y^{2}[p^{k}_{i+1,j} + p^{k}_{i-1,j}]-\\Delta x^{2}\\Delta y^{2}[f(x,y)^{k}_{i,j} + O(\\Delta x^{2}) + O(\\Delta y^{2})]}{2[\\Delta x^{2}+\\Delta y^{2}]}\\tag{15}\n",
    "    \\end{gather}$$\n",
    "    \n",
    "   "
   ]
  },
  {
   "cell_type": "code",
   "execution_count": null,
   "metadata": {
    "collapsed": true
   },
   "outputs": [],
   "source": []
  }
 ],
 "metadata": {
  "kernelspec": {
   "display_name": "Python 3",
   "language": "python",
   "name": "python3"
  },
  "language_info": {
   "codemirror_mode": {
    "name": "ipython",
    "version": 3
   },
   "file_extension": ".py",
   "mimetype": "text/x-python",
   "name": "python",
   "nbconvert_exporter": "python",
   "pygments_lexer": "ipython3",
   "version": "3.4.3"
  }
 },
 "nbformat": 4,
 "nbformat_minor": 0
}
