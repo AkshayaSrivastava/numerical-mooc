{
 "cells": [
  {
   "cell_type": "code",
   "execution_count": 129,
   "metadata": {
    "collapsed": false
   },
   "outputs": [],
   "source": [
    "## Standard imports + some extra imports for 3d plots\n",
    "from matplotlib import pyplot\n",
    "import numpy\n",
    "%matplotlib inline\n",
    "from matplotlib import rcParams\n",
    "rcParams['font.family'] = 'serif'\n",
    "rcParams['font.size'] = 16\n",
    "from mpl_toolkits.mplot3d import Axes3D"
   ]
  },
  {
   "cell_type": "code",
   "execution_count": 130,
   "metadata": {
    "collapsed": true
   },
   "outputs": [],
   "source": [
    "## Defining All functions here\n",
    "# Tolerance Calculation\n",
    "def L1norm(new, old):\n",
    "    '''\n",
    "    Calculates L1 Norm\n",
    "    ----------\n",
    "    Parameters:\n",
    "    ----------\n",
    "    new: 2D array of floats\n",
    "        Current values to calculate L1 Norm\n",
    "    old: 2D array of floats\n",
    "        Original values to calculate L1 Norm \n",
    "    -------\n",
    "    Returns:\n",
    "    -------\n",
    "    norm: float\n",
    "        Calculated L1 Norm\n",
    "    '''\n",
    "    norm = numpy.sum(numpy.abs(new-old))\n",
    "    return norm\n",
    "\n",
    "# Poisson Relaxation\n",
    "def poisson_2d(p, b, dx, dy):\n",
    "    '''\n",
    "    Performs  Poisson Jacobi relaxation for a single iteration\n",
    "    ----------\n",
    "    Parameters:\n",
    "    ----------\n",
    "    p: 2D array of floats\n",
    "        Initial guess\n",
    "    b: 2D array of floats\n",
    "        Source term\n",
    "    dx: float\n",
    "        Mesh spacing in x direction\n",
    "    dy: float\n",
    "        Mesh spacing in y direction    \n",
    "    -------\n",
    "    Returns:\n",
    "    -------\n",
    "    p: 2D array of float\n",
    "        Distribution after relaxation\n",
    "    norm: float\n",
    "        L1norm after one iteration of relaxation\n",
    "    '''\n",
    "    pd = p.copy() # Dummy Variable used in calculating the new p and the norm, keeps original\n",
    "\n",
    "    p[1:-1,1:-1] = 1/(2*(dx**2+dy**2))*\\\n",
    "        ((pd[1:-1,2:]+pd[1:-1,:-2])*dy**2+\\\n",
    "        (pd[2:,1:-1]+pd[:-2,1:-1])*dx**2-\\\n",
    "        b[1:-1,1:-1]*dx**2*dy**2)\n",
    "    \n",
    "    # BCs are automatically enforced - all zero dirichlet\n",
    "    \n",
    "    # Get the Norm\n",
    "    norm = L1norm(p,pd)\n",
    "    return p,pd,norm \n",
    "\n",
    "# Laplace Relaxation\n",
    "def laplace_2d(p, p0, p1, dx, dy):\n",
    "    '''\n",
    "    Performs  Laplace Jacobi relaxation for a single iteration\n",
    "    ----------\n",
    "    Parameters:\n",
    "    ----------\n",
    "    p: 2D array of floats\n",
    "        Initial guess\n",
    "    p0: 2D vector of floats\n",
    "          First row to create second order boundary\n",
    "    p1: 2D vector of floats\n",
    "        Second row to create second order boundary\n",
    "    dx: float\n",
    "        Mesh spacing in x direction\n",
    "    dy: float\n",
    "        Mesh spacing in y direction    \n",
    "    -------\n",
    "    Returns:\n",
    "    -------\n",
    "    p: 2D array of float\n",
    "        Distribution after relaxation\n",
    "    norm: float\n",
    "        L1norm after one iteration of relaxation\n",
    "    '''    \n",
    "    pn = p.copy()\n",
    "    \n",
    "    # Apply boundary conditions\n",
    "    p[0,:] = ((-1/(2*(dy**2)))*(8*p1-p0))-(3/dy) # assumes u_j = 1, always at the boundary\n",
    "    # Relax p\n",
    "    p[1:-1,1:-1] = .25*(pn[1:-1,2:]+pn[1:-1,0:-2]+pn[2:,1:-1]+pn[0:-2,1:-1])\n",
    "    #print(p)\n",
    "    # Get the Norm\n",
    "    norm = L1norm(p, pn)\n",
    "    return p,pn, norm\n",
    "\n",
    "# Creating the plot3d method (I'd rather see the 3d then attempt a contour-can change viewing angle as needed)\n",
    "def plot3d(x, y, p):\n",
    "    '''\n",
    "    Plots a 3D graph - Figure Appears with appropriate limits and viewing angle, No Return Values\n",
    "    ----------\n",
    "    Parameters:\n",
    "    ----------\n",
    "    x: array of float\n",
    "        nodal coordinates in x\n",
    "    y: array of float\n",
    "        nodal coordinates in y\n",
    "    p: 2D array of float\n",
    "        calculated potential field\n",
    "    '''\n",
    "    fig = pyplot.figure(figsize=(10,8), dpi=1000)\n",
    "    ax = fig.gca(projection='3d')\n",
    "    X,Y = numpy.meshgrid(x,y)\n",
    "    ax.plot_surface(X,Y,p[:], rstride=1, cstride=1,\n",
    "            linewidth=0, antialiased=False)\n",
    "    \n",
    "    # Cosmetics\n",
    "    ax.set_xlim(0,1) # Domain given in problem\n",
    "    ax.set_ylim(0,1) # Range given in problem\n",
    "    ax.set_xlabel('$x$')\n",
    "    ax.set_ylabel('$y$')\n",
    "    ax.set_zlabel('$z$')\n",
    "    ax.view_init(30,45)\n",
    "\n",
    "# Creating funciton to get maximum value of an array\n",
    "def getmax(val):\n",
    "    '''\n",
    "    Gets maximum of absolute values of all elements in an array\n",
    "    ----------\n",
    "    Parameters:\n",
    "    ----------\n",
    "    val:2D array of floats\n",
    "        array to be maximized   \n",
    "    -------\n",
    "    Returns:\n",
    "    -------\n",
    "    max: float\n",
    "        value of maximum absolute value \n",
    "    '''\n",
    "    max = numpy.amax(numpy.absolute(val))\n",
    "    return max"
   ]
  },
  {
   "cell_type": "code",
   "execution_count": 131,
   "metadata": {
    "collapsed": true
   },
   "outputs": [],
   "source": [
    "## Setting Up initial conditions\n",
    "nx, ny = 41, 41 # Grid Size\n",
    "l, h  = 1., 1. # Domain size\n",
    "dx, dy = l/(nx-1), h/(ny-1) # Mesh Element size\n",
    "x, y = numpy.linspace(0,1,nx), numpy.linspace(0,1,ny) # x and y for plots\n",
    "l1_target = 1e-6 # Tolerance for solution\n",
    "\n",
    "# Initializing solution arrays\n",
    "psi = numpy.zeros((nx,ny))\n",
    "w = numpy.zeros((nx,ny))"
   ]
  },
  {
   "cell_type": "code",
   "execution_count": 132,
   "metadata": {
    "collapsed": false
   },
   "outputs": [
    {
     "name": "stdout",
     "output_type": "stream",
     "text": [
      "Iterations:  4353\n"
     ]
    }
   ],
   "source": [
    "## Create/Simulate a Do While Loop\n",
    "#  We want the solution to relax at least in one iteration so that we can caluculate the L1norm accurately.\n",
    "#  This means we must have the loop run at least once. One way to do that is set an arbitrary conditional\n",
    "#  boolean that we can then update based on our L1norm calculations after each iteration!\n",
    "## <End Comment Block>\n",
    "\n",
    "    # Create iteration count, for fun\n",
    "iterations = 1\n",
    "d_bool = True\n",
    "while d_bool:\n",
    "\n",
    "    # copy parameters\n",
    "    psi_it = psi.copy()\n",
    "    w_it = w.copy()\n",
    "    \n",
    "    ## Here we start our coupled solution of psi and w. \n",
    "    #  Step 1: relax psi, using -w as the forcing function - poisson relaxation\n",
    "    #  Step 2: use the first two rows of psi in the new w equation and relax w, laplace relaxation\n",
    "    #  Step 3: compare both norms to the target and see if we can break out of loop\n",
    "    ## <End Comment Block>\n",
    "    \n",
    "    psi,pd, psi_norm = poisson_2d(psi_it, (-1*w_it), dx, dy) # Step 1\n",
    "    w,wd, w_norm = laplace_2d(w_it, psi[0], psi[1], dx, dy) # Step 2\n",
    "    \n",
    "    #print('psi_norm: ', psi_norm, \" & w_norm: \", w_norm, \"\\n\")\n",
    "    iterations += 1\n",
    "    if w_norm < l1_target and psi_norm < l1_target: # Step 3\n",
    "        d_bool = False\n",
    "        print(\"Iterations: \", iterations)\n"
   ]
  },
  {
   "cell_type": "code",
   "execution_count": 145,
   "metadata": {
    "collapsed": false,
    "scrolled": true
   },
   "outputs": [
    {
     "data": {
      "text/plain": [
       "(0.0, 1.0, 0.0, 1.0)"
      ]
     },
     "execution_count": 145,
     "metadata": {},
     "output_type": "execute_result"
    },
    {
     "data": {
      "image/png": "[encoded data removed]",
      "text/plain": [
       "<matplotlib.figure.Figure at 0x7f6bef9ca9b0>"
      ]
     },
     "metadata": {},
     "output_type": "display_data"
    }
   ],
   "source": [
    "## plot psi\n",
    "pyplot.figure(figsize=(8,8))\n",
    "pyplot.contourf(x,y,numpy.flipud(psi))\n",
    "pyplot.axis('equal')"
   ]
  },
  {
   "cell_type": "code",
   "execution_count": 134,
   "metadata": {
    "collapsed": false
   },
   "outputs": [
    {
     "name": "stdout",
     "output_type": "stream",
     "text": [
      "max psi is:  0.106235749409 \n",
      "\n",
      "max w is:  120.0 \n",
      "\n"
     ]
    }
   ],
   "source": [
    "## Get max psi for question 1\n",
    "print(\"max psi is: \", getmax(psi),\"\\n\")\n",
    "\n",
    "## Get max w for question 2\n",
    "print(\"max w is: \", getmax(w),\"\\n\")"
   ]
  },
  {
   "cell_type": "code",
   "execution_count": null,
   "metadata": {
    "collapsed": true
   },
   "outputs": [],
   "source": []
  }
 ],
 "metadata": {
  "kernelspec": {
   "display_name": "Python 3",
   "language": "python",
   "name": "python3"
  },
  "language_info": {
   "codemirror_mode": {
    "name": "ipython",
    "version": 3
   },
   "file_extension": ".py",
   "mimetype": "text/x-python",
   "name": "python",
   "nbconvert_exporter": "python",
   "pygments_lexer": "ipython3",
   "version": "3.4.3"
  }
 },
 "nbformat": 4,
 "nbformat_minor": 0
}
