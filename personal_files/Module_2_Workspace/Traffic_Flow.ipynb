{
 "cells": [
  {
   "cell_type": "markdown",
   "metadata": {},
   "source": [
    "# Traffic Flow Modeling\n",
    "\n",
    "## Theory - From the OPENEDX ASSIGNMENT\n",
    "Consider the flow of traffic on a one-lane highway.  How can we describe the general behavior of this system?\n",
    "\n",
    "We can define the speed of traffic, $V$, in kilometers per hour.  We can also define a traffic density, the number of cars per unit length of highway, $\\rho$, in cars per kilometer.  Finally, we can define a traffic flux, or the flow rate of cars, $F$ in cars per hour.  \n",
    "\n",
    "Now make a few assumptions about how traffic moves.  \n",
    "\n",
    "If $\\rho$ approaches 0, i.e. there are very few cars on the road, then cars will drive as fast as they can at some $V_{max}$.  \n",
    "\n",
    "Conversely, if cars are bumper to bumper along the road, then $\\rho$ approaches a $\\rho_{max}$ and $V$ approaches $0$.\n",
    "\n",
    "One possible equation to describe this behavior is\n",
    "\n",
    "$$V = V_{max} \\left(1 - \\frac{\\rho}{\\rho_{max}} \\right)$$\n",
    "\n",
    "If we describe the traffic flux, $F$ as\n",
    "\n",
    "$$F = V\\rho$$\n",
    "\n",
    "then\n",
    "\n",
    "$$F = F(\\rho) = V(\\rho)\\rho = V_{max} \\rho \\left(1 - \\frac{\\rho}{\\rho_{max}} \\right)$$\n",
    "\n",
    "Unsteady traffic flow can be modelled as the non-linear convection of car density, so we apply the non-linear convection equation with $V$, the wave speed, equal to $\\partial F/\\partial \\rho$:\n",
    "\n",
    "$$\\frac{\\partial \\rho}{\\partial t} + \\frac{\\partial F}{\\partial \\rho} \\frac{\\partial \\rho}{\\partial x} = 0$$\n",
    "\n",
    "where $F$ is defined as above. Replacing $F$ into the equation above yields: \n",
    "\n",
    "$$\\frac{\\partial \\rho}{\\partial t} + \\frac{\\partial}{\\partial \\rho}\\left(V_{max}\\rho\\left(1-\\frac{\\rho}{\\rho_{max}}\\right)\\right)\\frac{\\partial \\rho}{\\partial x}=0$$\n",
    "\n",
    "Which then simplifies to the full non-linear form:\n",
    "\n",
    "$$\\frac{\\partial \\rho}{\\partial t} + \\left(V_{max}\\left(1-\\frac{2\\rho}{\\rho_{max}}\\right)\\right)\\frac{\\partial \\rho}{\\partial x}=0$$\n",
    "\n",
    "## Discretization\n",
    "It is important to note that $\\rho$ is a function of $x$ and $t$. Thus, we can use a forward-time/backward space discertization model to further analyze the traffic flow problem.\n",
    "\n",
    "$$\\rho = \\rho(x,t) = \\rho(x_{i}.t_{n})$$\n",
    "\n",
    "From this, we can do a forward discretization in time. we start with the Taylor Expansion, and since the governing equation only goes to the first derivative, we can abstract away higher order derivative terms using O-notation.Recall, the Taylor Expansion is defined as:\n",
    "\n",
    "$$\\begin{align}\n",
    "f(x)&=f(\\gamma)+\\sum\\limits_{j=1}^{\\infty} \\frac{(x-\\gamma)^{j}}{j!}\\frac{\\partial^{j}}{\\partial x^{j}}f(\\gamma)\\\\\n",
    "&\\implies \\rho(x_{i},t_{n+1})=\\rho(x_{i},t_{n})+ \\left.\\frac{\\Delta t^{1}}{1!}\\frac{\\partial^{1} \\rho}{\\partial t^{1}}\\right|_{x_{i},t_{n}}+O(\\Delta t^{2})\\\\\n",
    "&\\implies \\frac{\\rho(x_{i},t_{n+1}) - \\rho(x_{i},t_{n})}{\\Delta t}=\\left.\\frac{\\partial\\rho}{\\partial t}\\right|_{x_{i},t_{n}} + O(\\Delta t^{2})\n",
    "\\end{align}$$\n",
    "\n",
    "Similarly, for the space discretization:\n",
    "\n",
    "$$\\begin{align}\n",
    "\\rho(x_{i},t_{n})=\\rho(x_{i-1},t_{n})+ \\left.\\frac{\\Delta x^{1}}{1!}\\frac{\\partial^{1} \\rho}{\\partial x^{1}}\\right|_{x_{i-1},t_{n}} &+ O(\\Delta x^{2})\\\\\n",
    "\\implies \\frac{\\rho(x_{i-1},t_{n}) - \\rho(x_{i},t_{n})}{-\\Delta x}=\\left.\\frac{\\partial\\rho}{\\partial x}\\right|_{x_{i-1},t_{n}} &+ O(\\Delta x^{2})\n",
    "\\end{align}$$\n",
    "\n",
    "Note that the $\\Delta t$ is negative. This is due to the fact we would be subtracting the previous space step from the current one. Neglecting the higher order terms, we come to our final discretization model:\n",
    "\n",
    "$$\\begin{align}\n",
    "\\frac{\\rho(x_{i},t_{n+1}) - \\rho(x_{i},t_{n})}{\\Delta t}&=\\left.\\frac{\\partial\\rho}{\\partial t}\\right|_{x_{i},t_{n}}\\\\\n",
    "\\frac{\\rho(x_{i},t_{n}) - \\rho(x_{i-1},t_{n})}{\\Delta x}&=\\left.\\frac{\\partial\\rho}{\\partial x}\\right|_{x_{i},t_{n}}\n",
    "\\end{align}$$\n",
    "\n",
    "plugging this into our original equation, and allowing for some initial conditions, we get our final equation to be: \n",
    "\n",
    "$$\n",
    "\\frac{\\rho(x_{i},t_{n+1}) - \\rho(x_{i},t_{n})}{\\Delta t}+\\left[V_{max}\\left(1-\\frac{2\\rho(x_{i},t_{n})}{\\rho_{max}}\\right)\\right]\\frac{\\rho(x_{i},t_{n}) - \\rho(x_{i-1},t_{n})}{\\Delta x}=0\n",
    "$$\n",
    "\n",
    "This can further be simplified into: \n",
    "\n",
    "$$\n",
    "\\rho(x_{i},t_{n+1}) = \\rho(x_{i},t_{n})-\\Delta t\\left[V_{max}\\left(1-\\frac{2\\rho(x_{i},t_{n})}{\\rho_{max}}\\right)\\right]\\frac{\\rho(x_{i},t_{n}) - \\rho(x_{i-1},t_{n})}{\\Delta x}\n",
    "$$\n",
    "\n",
    "Thus, we now have the next step in time as a function of changes in space for the current timestep. We can use this model as the basis for our code.\n",
    "\n",
    "## Code"
   ]
  },
  {
   "cell_type": "code",
   "execution_count": 39,
   "metadata": {
    "collapsed": false
   },
   "outputs": [
    {
     "name": "stderr",
     "output_type": "stream",
     "text": [
      "/home/gil/anaconda3/lib/python3.4/site-packages/IPython/kernel/__main__.py:27: RuntimeWarning: overflow encountered in double_scalars\n",
      "/home/gil/anaconda3/lib/python3.4/site-packages/IPython/kernel/__main__.py:27: RuntimeWarning: invalid value encountered in double_scalars\n",
      "/home/gil/anaconda3/lib/python3.4/site-packages/IPython/kernel/__main__.py:29: RuntimeWarning: invalid value encountered in true_divide\n"
     ]
    },
    {
     "name": "stdout",
     "output_type": "stream",
     "text": [
      "Minimum Velocity at t=0 is:  64.0\n",
      "Average Velocity at t=3 minutes is:  nan\n",
      "Minimum Velocity at t=6 minutes is:  -inf\n"
     ]
    },
    {
     "data": {
      "text/plain": [
       "<matplotlib.legend.Legend at 0x7f1415162a58>"
      ]
     },
     "execution_count": 39,
     "metadata": {},
     "output_type": "execute_result"
    },
    {
     "data": {
      "image/png": "[encoded data removed]",
      "text/plain": [
       "<matplotlib.figure.Figure at 0x7f1414f78518>"
      ]
     },
     "metadata": {},
     "output_type": "display_data"
    }
   ],
   "source": [
    "##Import all necessary libraries and setup configurations\n",
    "import numpy\n",
    "from matplotlib import pyplot, rcParams\n",
    "%matplotlib inline\n",
    "rcParams['font.family']='serif'\n",
    "rcParams['font.size']=16\n",
    "\n",
    "##Creating variable constants as defined by the problem\n",
    "vmax = 80 #km/hr\n",
    "L = 11 #km\n",
    "rhomax = 250 #cars/hr\n",
    "nx = 51 # umber of intervals in your space vector\n",
    "dx = L/(nx-1)\n",
    "dt = .001 #hours\n",
    "tmax = .1 #maximum time (6 minutes) in an hour\n",
    "\n",
    "#Part 1\n",
    "x = numpy.linspace(0,L,nx) #space vector\n",
    "rho0 = numpy.ones(nx)*10 #set all of rho0 to 10\n",
    "rho0[10:20] = 50 #add a spike to rho0 from 10 to 20, essentially creating an initial box distribution\n",
    "rho = numpy.ndarray(shape=(tmax/dt,nx),dtype=float) #create solutions array\n",
    "rho[0,0:]=rho0 #set initial solution to initial condition\n",
    "rho[:,0]=10 #set boundary condition\n",
    "\n",
    "for t in numpy.linspace(dt,tmax-dt)*(dt**(-1)): #set row index (need them to be integers)\n",
    "    for i in range(1,nx-1): #set column index\n",
    "        rho[t,i+1]=rho[t-1,i]-(dt/dx)*(vmax*(1-(rho[t-1,i]/rhomax)))*(rho[t-1,i]-rho[t-1,i-1])\n",
    "\n",
    "v=vmax*(1-(rho/rhomax)) #need to convert the density into a velocity using model\n",
    "\n",
    "#print out results\n",
    "print(\"Minimum Velocity at t=0 is: \",min(v[0,:]))\n",
    "print(\"Average Velocity at t=3 minutes is: \",numpy.mean(v[(len(v)/2+1),:]))\n",
    "print(\"Minimum Velocity at t=6 minutes is: \",min(v[-1,:]))\n",
    "\n",
    "#Visualize\n",
    "pyplot.figure(figsize=(10,8))\n",
    "pyplot.title('Traffic Speed as a Function of Location')\n",
    "pyplot.plot(x,v[0,:],label='t=0')\n",
    "pyplot.plot(x,v[(len(v[0,:])/2),:],label='t=3')\n",
    "pyplot.plot(x,v[-1,:],label='t=6')\n",
    "pyplot.xlabel('Length (km)')\n",
    "pyplot.legend()"
   ]
  },
  {
   "cell_type": "code",
   "execution_count": null,
   "metadata": {
    "collapsed": true
   },
   "outputs": [],
   "source": []
  }
 ],
 "metadata": {
  "kernelspec": {
   "display_name": "Python 3",
   "language": "python",
   "name": "python3"
  },
  "language_info": {
   "codemirror_mode": {
    "name": "ipython",
    "version": 3
   },
   "file_extension": ".py",
   "mimetype": "text/x-python",
   "name": "python",
   "nbconvert_exporter": "python",
   "pygments_lexer": "ipython3",
   "version": "3.4.3"
  }
 },
 "nbformat": 4,
 "nbformat_minor": 0
}
