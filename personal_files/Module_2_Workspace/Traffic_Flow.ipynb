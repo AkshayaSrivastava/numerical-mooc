{
 "cells": [
  {
   "cell_type": "markdown",
   "metadata": {},
   "source": [
    "# Traffic Flow Modeling\n",
    "\n",
    "## Theory - From the OPENEDX ASSIGNMENT\n",
    "Consider the flow of traffic on a one-lane highway.  How can we describe the general behavior of this system?\n",
    "\n",
    "We can define the speed of traffic, $V$, in kilometers per hour.  We can also define a traffic density, the number of cars per unit length of highway, $\\rho$, in cars per kilometer.  Finally, we can define a traffic flux, or the flow rate of cars, $F$ in cars per hour.  \n",
    "\n",
    "Now make a few assumptions about how traffic moves.  \n",
    "\n",
    "If $\\rho$ approaches 0, i.e. there are very few cars on the road, then cars will drive as fast as they can at some $V_{max}$.  \n",
    "\n",
    "Conversely, if cars are bumper to bumper along the road, then $\\rho$ approaches a $\\rho_{max}$ and $V$ approaches $0$.\n",
    "\n",
    "One possible equation to describe this behavior is\n",
    "\n",
    "$$V = V_{max} \\left(1 - \\frac{\\rho}{\\rho_{max}} \\right)$$\n",
    "\n",
    "If we describe the traffic flux, $F$ as\n",
    "\n",
    "$$F = V\\rho$$\n",
    "\n",
    "then\n",
    "\n",
    "$$F = F(\\rho) = V(\\rho)\\rho = V_{max} \\rho \\left(1 - \\frac{\\rho}{\\rho_{max}} \\right)$$\n",
    "\n",
    "Unsteady traffic flow can be modelled as the non-linear convection of car density, so we apply the non-linear convection equation with $V$, the wave speed, equal to $\\partial F/\\partial \\rho$:\n",
    "\n",
    "$$\\frac{\\partial \\rho}{\\partial t} + \\frac{\\partial F}{\\partial \\rho} \\frac{\\partial \\rho}{\\partial x} = 0$$\n",
    "\n",
    "where $F$ is defined as above.  \n",
    "\n",
    "\n",
    "## Discretization\n",
    "\n",
    "## Code"
   ]
  },
  {
   "cell_type": "code",
   "execution_count": null,
   "metadata": {
    "collapsed": true
   },
   "outputs": [],
   "source": []
  }
 ],
 "metadata": {
  "kernelspec": {
   "display_name": "Python 3",
   "language": "python",
   "name": "python3"
  },
  "language_info": {
   "codemirror_mode": {
    "name": "ipython",
    "version": 3
   },
   "file_extension": ".py",
   "mimetype": "text/x-python",
   "name": "python",
   "nbconvert_exporter": "python",
   "pygments_lexer": "ipython3",
   "version": "3.4.3"
  }
 },
 "nbformat": 4,
 "nbformat_minor": 0
}
