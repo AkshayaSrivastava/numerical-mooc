{
 "cells": [
  {
   "cell_type": "markdown",
   "metadata": {},
   "source": [
    "# Lesson 4 -1D Burgers' Equation\n",
    "\n",
    "## Notes:\n",
    "* the equation we are working with is: \n",
    "$$\\frac{\\partial u}{\\partial t} + u\\frac{\\partial u}{\\partial x} = \\nu \\frac{\\partial^{2}u}{\\partial x^{2}}$$\n",
    "* using the discretization schema (forward difference on the temporal axis; backward difference on the spatial axis, central difference on the second order differential), we get:\n",
    "\n",
    "$$\\frac{u_i^{n+1}-u_i^n}{\\Delta t} + u_i^n \\frac{u_i^n - u_{i-1}^n}{\\Delta x} = \\nu \\frac{u_{i+1}^n - 2u_i^n + u_{i-1}^n}{\\Delta x^2}$$\n",
    "* the boundary condition is a periodic boundary condition: $u(0)=u(2\\pi)$\n",
    "\n",
    "\n",
    "$$\\sigma = \\frac{c\\Delta t}{\\Delta x}\\leq 1$$\n",
    "\n",
    "## Code: \n",
    "all the code will follow this cell. This is to ease runtime and to make sure the scope of all variables remains the same. different iterations of the same code with different values or methods of computing the same solution will be in subsquent cells, while code-notes will be commented like usual."
   ]
  },
  {
   "cell_type": "code",
   "execution_count": 6,
   "metadata": {
    "collapsed": false
   },
   "outputs": [],
   "source": [
    "import sympy, numpy\n",
    "from matplotlib import pyplot, rcParams\n",
    "from sympy import init_printing\n",
    "%matplotlib inline\n",
    "rcParams['font.family']='serif'\n",
    "rcParams['font.size']=16\n",
    "init_printing()\n",
    "\n",
    "x, nu, t = sympy.symbols('x nu t')\n",
    "phi = sympy.exp(-(x-4*t)**2/(4*nu*(t+1))) + \\\n",
    "sympy.exp(-(x-4*t-2*numpy.pi)**2/(4*nu*(t+1)))\n",
    "#/phi\n",
    "phiprime=phi.diff(x)\n",
    "#phiprime\n"
   ]
  },
  {
   "cell_type": "code",
   "execution_count": null,
   "metadata": {
    "collapsed": true
   },
   "outputs": [],
   "source": []
  }
 ],
 "metadata": {
  "kernelspec": {
   "display_name": "Python 3",
   "language": "python",
   "name": "python3"
  },
  "language_info": {
   "codemirror_mode": {
    "name": "ipython",
    "version": 3
   },
   "file_extension": ".py",
   "mimetype": "text/x-python",
   "name": "python",
   "nbconvert_exporter": "python",
   "pygments_lexer": "ipython3",
   "version": "3.4.3"
  }
 },
 "nbformat": 4,
 "nbformat_minor": 0
}
