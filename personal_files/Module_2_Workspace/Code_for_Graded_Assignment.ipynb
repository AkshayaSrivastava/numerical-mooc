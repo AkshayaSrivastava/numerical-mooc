{
 "cells": [
  {
   "cell_type": "markdown",
   "metadata": {},
   "source": [
    "# Grades - Module 2\n",
    "This notebook is a sandbox to mess around with code to answer the graded assigments. Each question that would need some code is self contained in its own set of two cells, with the set acting independantly of each other. The first cell is markdown containing the question, while the second set is the actual code needed to arrive at the answer."
   ]
  },
  {
   "cell_type": "markdown",
   "metadata": {},
   "source": [
    "## Sympy Question\n",
    "Using sympy, evaluate the partial derivative with respect to $x$ of the following equation at $x=2.2$.\n",
    "\n",
    "$$\\frac{\\cos ^2 (x) \\sin ^3 (x)}{4x^{5}e^{x}}$$"
   ]
  },
  {
   "cell_type": "code",
   "execution_count": 25,
   "metadata": {
    "collapsed": false
   },
   "outputs": [
    {
     "data": {
      "text/plain": [
       "9.83801782869494e-5"
      ]
     },
     "execution_count": 25,
     "metadata": {},
     "output_type": "execute_result"
    }
   ],
   "source": [
    "import sympy\n",
    "\n",
    "x = sympy.symbols('x')\n",
    "prob = ((sympy.cos(x)**2)*(sympy.sin(x))**3)/((4*x**(5))*sympy.exp(x))\n",
    "prob\n",
    "sol = prob.subs(x,2.2).evalf()\n",
    "sol\n"
   ]
  },
  {
   "cell_type": "code",
   "execution_count": null,
   "metadata": {
    "collapsed": true
   },
   "outputs": [],
   "source": []
  }
 ],
 "metadata": {
  "kernelspec": {
   "display_name": "Python 3",
   "language": "python",
   "name": "python3"
  },
  "language_info": {
   "codemirror_mode": {
    "name": "ipython",
    "version": 3
   },
   "file_extension": ".py",
   "mimetype": "text/x-python",
   "name": "python",
   "nbconvert_exporter": "python",
   "pygments_lexer": "ipython3",
   "version": "3.4.3"
  }
 },
 "nbformat": 4,
 "nbformat_minor": 0
}
