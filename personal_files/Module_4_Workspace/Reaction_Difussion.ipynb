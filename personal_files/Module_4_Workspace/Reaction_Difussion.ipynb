{
 "cells": [
  {
   "cell_type": "markdown",
   "metadata": {},
   "source": [
    "# Reaction-Diffusion - Explicit\n",
    "\n",
    "* Using Gray Scott Model: $$\\begin{align}\\frac{\\partial u}{\\partial t}&=D_{u}\\nabla^{2}u-uv^{2}+F(1-u)\\\\\n",
    "\\frac{\\partial v}{\\partial t}&=D_{v}\\nabla^{2}v+uv^{2}-v(F+k)\\end{align}$$\n",
    "* Use Neumann Boundary Conditions on all sides = 0 with final time of 8000 seconds and doamin of $5m x 5m$\n",
    "    * Implementation of all of this except the boundary conditions are given in the assignment."
   ]
  },
  {
   "cell_type": "code",
   "execution_count": 4,
   "metadata": {
    "collapsed": false
   },
   "outputs": [
    {
     "name": "stdout",
     "output_type": "stream",
     "text": [
      "[[ 1.03341932  1.00909902  1.03523907 ...,  1.01236     1.02769296\n",
      "   1.01185515]\n",
      " [ 1.02049366  1.03874603  1.03186003 ...,  1.00917594  1.00648275\n",
      "   1.01929723]\n",
      " [ 1.0297385   1.02874589  1.02488765 ...,  1.0345737   1.00195443\n",
      "   1.03189674]\n",
      " ..., \n",
      " [ 1.03851006  1.01833226  1.00260628 ...,  1.00514165  1.04292736\n",
      "   1.0090857 ]\n",
      " [ 1.03951143  1.0425582   1.03609776 ...,  1.00643229  1.04094253\n",
      "   1.03869138]\n",
      " [ 1.01132752  1.00554757  1.00241105 ...,  1.04435044  1.02683595\n",
      "   1.01239924]] [[ 0.04286057  0.01747253  0.03235064 ...,  0.0283667   0.03892816\n",
      "   0.0255146 ]\n",
      " [ 0.03567483  0.04898278  0.03607639 ...,  0.02100673  0.0305137\n",
      "   0.00374435]\n",
      " [ 0.04936444  0.0423903   0.00414055 ...,  0.02084643  0.03015715\n",
      "   0.03085144]\n",
      " ..., \n",
      " [ 0.03707045  0.03856759  0.01737007 ...,  0.00421018  0.03256909\n",
      "   0.00247397]\n",
      " [ 0.04781775  0.00190273  0.02729943 ...,  0.02507722  0.0468819\n",
      "   0.00760259]\n",
      " [ 0.01798466  0.02495585  0.04354743 ...,  0.00184759  0.01039884\n",
      "   0.01832535]]\n"
     ]
    }
   ],
   "source": [
    "#Basic Imports\n",
    "import numpy\n",
    "import matplotlib.pyplot\n",
    "%matplotlib inline\n",
    "from matplotlib import rcParams\n",
    "rcParams['font.family'] = 'serif'\n",
    "rcParams['font.size'] = 16\n",
    "\n",
    "# Setting up inital Values\n",
    "uvinitial = numpy.load('./uvinitial.npz')\n",
    "U = uvinitial['U']\n",
    "V = uvinitial['V']\n",
    "n = 192\n",
    "Du, Dv, F, k = 0.00016, 0.00008, 0.035, 0.065 # Bacteria 1 \n",
    "dh = 5./(n-1)\n",
    "T = 8000\n",
    "dt = .9 * dh**2 / (4*max(Du,Dv))\n",
    "nt = int(T/dt)\n",
    "\n",
    "print(U,V)"
   ]
  },
  {
   "cell_type": "code",
   "execution_count": null,
   "metadata": {
    "collapsed": true
   },
   "outputs": [],
   "source": []
  }
 ],
 "metadata": {
  "kernelspec": {
   "display_name": "Python 3",
   "language": "python",
   "name": "python3"
  },
  "language_info": {
   "codemirror_mode": {
    "name": "ipython",
    "version": 3
   },
   "file_extension": ".py",
   "mimetype": "text/x-python",
   "name": "python",
   "nbconvert_exporter": "python",
   "pygments_lexer": "ipython3",
   "version": "3.4.3"
  }
 },
 "nbformat": 4,
 "nbformat_minor": 0
}
