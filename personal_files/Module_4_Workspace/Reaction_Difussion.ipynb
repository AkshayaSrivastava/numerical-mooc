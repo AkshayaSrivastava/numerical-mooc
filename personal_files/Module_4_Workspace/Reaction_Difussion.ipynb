{
 "cells": [
  {
   "cell_type": "markdown",
   "metadata": {},
   "source": [
    "# Reaction-Diffusion - Explicit\n",
    "\n",
    "* Using Gray Scott Model: $$\\begin{align}\\frac{\\partial u}{\\partial t}&=D_{u}\\nabla^{2}u-uv^{2}+F(1-u)\\\\\n",
    "\\frac{\\partial v}{\\partial t}&=D_{v}\\nabla^{2}v+uv^{2}-v(F+k)\\end{align}$$\n",
    "* Use Neumann Boundary Conditions on all sides = 0 with final time of 8000 seconds and doamin of $5m x 5m$\n",
    "    * Implementation of all of this except the boundary conditions are given in the assignment."
   ]
  },
  {
   "cell_type": "code",
   "execution_count": 5,
   "metadata": {
    "collapsed": false
   },
   "outputs": [
    {
     "ename": "TypeError",
     "evalue": "'float' object cannot be interpreted as an integer",
     "output_type": "error",
     "traceback": [
      "\u001b[1;31m---------------------------------------------------------------------------\u001b[0m",
      "\u001b[1;31mTypeError\u001b[0m                                 Traceback (most recent call last)",
      "\u001b[1;32m<ipython-input-5-5fe1b52987ed>\u001b[0m in \u001b[0;36m<module>\u001b[1;34m()\u001b[0m\n\u001b[0;32m     49\u001b[0m \u001b[1;33m\u001b[0m\u001b[0m\n\u001b[0;32m     50\u001b[0m \u001b[1;31m# Calculating out answer\u001b[0m\u001b[1;33m\u001b[0m\u001b[1;33m\u001b[0m\u001b[0m\n\u001b[1;32m---> 51\u001b[1;33m \u001b[0mu\u001b[0m\u001b[1;33m,\u001b[0m \u001b[0mv\u001b[0m \u001b[1;33m=\u001b[0m \u001b[0mftcs\u001b[0m\u001b[1;33m(\u001b[0m\u001b[0mU\u001b[0m\u001b[1;33m.\u001b[0m\u001b[0mcopy\u001b[0m\u001b[1;33m(\u001b[0m\u001b[1;33m)\u001b[0m\u001b[1;33m,\u001b[0m \u001b[0mV\u001b[0m\u001b[1;33m.\u001b[0m\u001b[0mcopy\u001b[0m\u001b[1;33m(\u001b[0m\u001b[1;33m)\u001b[0m\u001b[1;33m,\u001b[0m \u001b[0mDu\u001b[0m\u001b[1;33m,\u001b[0m \u001b[0mDv\u001b[0m\u001b[1;33m,\u001b[0m \u001b[0mF\u001b[0m\u001b[1;33m,\u001b[0m \u001b[0mk\u001b[0m\u001b[1;33m,\u001b[0m \u001b[0mnt\u001b[0m\u001b[1;33m,\u001b[0m \u001b[0mdt\u001b[0m\u001b[1;33m,\u001b[0m \u001b[0mdh\u001b[0m\u001b[1;33m)\u001b[0m\u001b[1;33m\u001b[0m\u001b[0m\n\u001b[0m\u001b[0;32m     52\u001b[0m \u001b[1;33m\u001b[0m\u001b[0m\n\u001b[0;32m     53\u001b[0m \u001b[1;31m# Display answer for assigment\u001b[0m\u001b[1;33m\u001b[0m\u001b[1;33m\u001b[0m\u001b[0m\n",
      "\u001b[1;32m<ipython-input-5-5fe1b52987ed>\u001b[0m in \u001b[0;36mftcs\u001b[1;34m(u, v, Du, Dv, k, F, dh, dt, nt)\u001b[0m\n\u001b[0;32m     21\u001b[0m \u001b[1;32mdef\u001b[0m \u001b[0mftcs\u001b[0m\u001b[1;33m(\u001b[0m\u001b[0mu\u001b[0m\u001b[1;33m,\u001b[0m \u001b[0mv\u001b[0m\u001b[1;33m,\u001b[0m \u001b[0mDu\u001b[0m\u001b[1;33m,\u001b[0m \u001b[0mDv\u001b[0m\u001b[1;33m,\u001b[0m \u001b[0mk\u001b[0m\u001b[1;33m,\u001b[0m \u001b[0mF\u001b[0m\u001b[1;33m,\u001b[0m \u001b[0mdh\u001b[0m\u001b[1;33m,\u001b[0m \u001b[0mdt\u001b[0m\u001b[1;33m,\u001b[0m \u001b[0mnt\u001b[0m\u001b[1;33m)\u001b[0m\u001b[1;33m:\u001b[0m\u001b[1;33m\u001b[0m\u001b[0m\n\u001b[0;32m     22\u001b[0m \u001b[1;33m\u001b[0m\u001b[0m\n\u001b[1;32m---> 23\u001b[1;33m     \u001b[1;32mfor\u001b[0m \u001b[0mt\u001b[0m \u001b[1;32min\u001b[0m \u001b[0mrange\u001b[0m\u001b[1;33m(\u001b[0m\u001b[0mnt\u001b[0m\u001b[1;33m)\u001b[0m\u001b[1;33m:\u001b[0m\u001b[1;33m\u001b[0m\u001b[0m\n\u001b[0m\u001b[0;32m     24\u001b[0m \u001b[1;33m\u001b[0m\u001b[0m\n\u001b[0;32m     25\u001b[0m         \u001b[0mt\u001b[0m \u001b[1;33m=\u001b[0m \u001b[0mint\u001b[0m\u001b[1;33m(\u001b[0m\u001b[0mt\u001b[0m\u001b[1;33m)\u001b[0m\u001b[1;33m\u001b[0m\u001b[0m\n",
      "\u001b[1;31mTypeError\u001b[0m: 'float' object cannot be interpreted as an integer"
     ]
    }
   ],
   "source": [
    "#Basic Imports\n",
    "import numpy\n",
    "import matplotlib.pyplot\n",
    "%matplotlib inline\n",
    "from matplotlib import rcParams\n",
    "rcParams['font.family'] = 'serif'\n",
    "rcParams['font.size'] = 16\n",
    "\n",
    "# Setting up inital Values\n",
    "uvinitial = numpy.load('./uvinitial.npz')\n",
    "U = uvinitial['U']\n",
    "V = uvinitial['V']\n",
    "n = 192\n",
    "Du, Dv, F, k = 0.00016, 0.00008, 0.035, 0.065 # Bacteria 1 \n",
    "dh = 5./(n-1)\n",
    "T = 8000\n",
    "dt = .9 * dh**2 / (4*max(Du,Dv))\n",
    "nt = int(T/dt)\n",
    "\n",
    "# Writing out forward time, central space scheme\n",
    "def ftcs(u, v, Du, Dv, k, F, dh, dt, nt):\n",
    "   \n",
    "    for t in range(nt):\n",
    "       \n",
    "        t = int(t)\n",
    "        # Create copies to use in code\n",
    "        un = u.copy()\n",
    "        vn = v.copy()\n",
    "       \n",
    "        # Solve out u for this timestep\n",
    "        u[1:-1,1:-1] = un[1:-1,1:-1]+dt*(((Du/(dh**2))*(un[2:,1:-1]-4*un[1:-1,1:-1]+un[:-2,1:-1]+un[1:-1,2:]\\\n",
    "                        +un[1:-1,:-2]))-(un[1:-1,1:-1]*(vn[1:-1,1:-1])**2)+F*(1-un[1:-1,1:-1]))\n",
    "   \n",
    "        # Boundary Conditions for u\n",
    "        u[-1,:] = u[-2,:] # Top\n",
    "        u[:,-1] = u[:,-2] # Right\n",
    "        u[0,:] = u[1,:]   # Bottom\n",
    "        u[:,0] = u[:,1]   # Left\n",
    "       \n",
    "        # Solve out u for this timestep\n",
    "        v[1:-1,1:-1] = vn[1:-1,1:-1]+dt*(((Dv/(dh**2))*(vn[2:,1:-1]-4*vn[1:-1,1:-1]+vn[:-2,1:-1]+vn[1:-1,2:]\\\n",
    "                        +vn[1:-1,:-2]))+(un[1:-1,1:-1]*(vn[1:-1,1:-1])**2)+(F+k)*vn[1:-1,1:-1])\n",
    "                          \n",
    "        # Boundary Conditions for v\n",
    "        v[-1,:] = v[-2,:] # Top\n",
    "        v[:,-1] = v[:,-2] # Right\n",
    "        v[0,:] = v[1,:]   # Bottom\n",
    "        v[:,0] = v[:,1]   # Left\n",
    "       \n",
    "    return u, v\n",
    "\n",
    "# Calculating out answer\n",
    "u, v = ftcs(U.copy(), V.copy(), Du, Dv, F, k, nt, dt, dh)\n",
    "\n",
    "# Display answer for assigment\n",
    "u[100,::40]"
   ]
  },
  {
   "cell_type": "code",
   "execution_count": null,
   "metadata": {
    "collapsed": true
   },
   "outputs": [],
   "source": []
  }
 ],
 "metadata": {
  "kernelspec": {
   "display_name": "Python 3",
   "language": "python",
   "name": "python3"
  },
  "language_info": {
   "codemirror_mode": {
    "name": "ipython",
    "version": 3
   },
   "file_extension": ".py",
   "mimetype": "text/x-python",
   "name": "python",
   "nbconvert_exporter": "python",
   "pygments_lexer": "ipython3",
   "version": "3.4.3"
  }
 },
 "nbformat": 4,
 "nbformat_minor": 0
}
