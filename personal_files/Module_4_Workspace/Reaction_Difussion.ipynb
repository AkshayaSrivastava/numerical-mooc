{
 "cells": [
  {
   "cell_type": "markdown",
   "metadata": {},
   "source": [
    "# Reaction-Diffusion - Explicit\n",
    "\n",
    "* Using Gray Scott Model: $$\\begin{align}\\frac{\\partial u}{\\partial t}&=D_{u}\\nabla^{2}u-uv^{2}+F(1-u)\\\\\n",
    "\\frac{\\partial v}{\\partial t}&=D_{v}\\nabla^{2}v+uv^{2}-v(F+k)\\end{align}$$\n",
    "* Use Neumann Boundary Conditions on all sides = 0 with final time of 8000 seconds and doamin of $5m x 5m$\n",
    "    * Implementation of all of this except the boundary conditions are given in the assignment."
   ]
  },
  {
   "cell_type": "code",
   "execution_count": null,
   "metadata": {
    "collapsed": true
   },
   "outputs": [],
   "source": [
    "#Basic Imports\n",
    "import numpy\n",
    "import matplotlib.pyplot\n",
    "%matplotlib inline\n",
    "from matplotlib import rcParams\n",
    "rcParams['font.family'] = 'serif'\n",
    "rcParams['font.size'] = 16\n",
    "\n",
    "# Setting up inital Values\n",
    "uvinitial = np.load('./uvinitial.npz')\n",
    "U = uvinitial['U']\n",
    "V = uvinitial['V']\n",
    "n = 192\n",
    "Du, Dv, F, k = 0.00016, 0.00008, 0.035, 0.065 # Bacteria 1 \n",
    "dh = 5./(n-1)\n",
    "T = 8000\n",
    "dt = .9 * dh**2 / (4*max(Du,Dv))\n",
    "nt = int(T/dt)\n",
    "\n"
   ]
  }
 ],
 "metadata": {
  "kernelspec": {
   "display_name": "Python 3",
   "language": "python",
   "name": "python3"
  },
  "language_info": {
   "codemirror_mode": {
    "name": "ipython",
    "version": 3
   },
   "file_extension": ".py",
   "mimetype": "text/x-python",
   "name": "python",
   "nbconvert_exporter": "python",
   "pygments_lexer": "ipython3",
   "version": "3.4.3"
  }
 },
 "nbformat": 4,
 "nbformat_minor": 0
}
