{
 "cells": [
  {
   "cell_type": "markdown",
   "metadata": {},
   "source": [
    "# Heat Conduction Explicit\n",
    "\n",
    "## Notes:\n",
    "* Obvious Note, but one that needs to be made: Implicit Schemes use future information.\n",
    "    * By using these methods, both the miniscule time step issue and the boundary drag issue disappear\n",
    "    * We're going to solve the same equations as in Notebook 1 but descritize them differently.\n",
    "* Solving $\\frac{\\partial T}{\\partial t}=\\alpha \\frac{\\partial^{2}T}{\\partial t^{2}}$ with the following constraint: $\\sigma = \\alpha\\frac{\\Delta t}{(\\Delta x)^{2}} \\leq \\frac{1}{2}$\n",
    "\n",
    "* Descritizing the time derivative: $$\\frac{\\partial T}{\\partial t} : T^{n+1}_{i} = T^{n}_{i} + \\frac{\\partial T}{\\partial t}\\Delta t + \\frac{\\partial^{2} T}{\\partial t^{2}}\\frac{\\Delta t^{2}}{2} + \\frac{\\partial^{3} T}{\\partial t^{3}}\\frac{\\Delta t^{3}}{6} \\\\\n",
    "\\implies \\frac{T^{n+1}_{i} - T^{n}_{i}}{\\Delta t} = \\frac{\\partial T}{\\partial t} + \\frac{\\partial^{2} T}{\\partial t^{2}}\\frac{\\Delta t}{2} + \\frac{\\partial^{3} T}{\\partial t^{3}}\\frac{\\Delta t^{2}}{6}$$\n",
    "    * Using big-O notation for the error we get : $$\\frac{T^{n+1}_{i} - T^{n}_{i}}{\\Delta t} = \\frac{\\partial T}{\\partial t} + O(\\Delta t)$$\n",
    "    \n",
    "* Descritizing the space derivative (THIS TIME AT n+1!!) we will use central difference, which will give us two equations to then later sum:\n",
    "$$\\frac{\\partial^{2} T}{\\partial x^{2}} :\\begin{align}\n",
    "&T^{n+1}_{i+1} = T^{n+1}_{i} + \\frac{\\partial T}{\\partial x}\\Delta x + \\frac{\\partial^{2} T}{\\partial x^{2}}\\frac{\\Delta x^{2}}{2} + \\frac{\\partial^{3} T}{\\partial x^{3}}\\frac{\\Delta x^{3}}{6} + \\frac{\\partial^{4} T}{\\partial x^{4}}\\frac{\\Delta x^{4}}{24}\\\\\n",
    "&T^{n+1}_{i-1} = T^{n+1}_{i} - \\frac{\\partial T}{\\partial x}\\Delta x + \\frac{\\partial^{2} T}{\\partial x^{2}}\\frac{\\Delta x^{2}}{2} - \\frac{\\partial^{3} T}{\\partial x^{3}}\\frac{\\Delta x^{3}}{6} + \\frac{\\partial^{4} T}{\\partial x^{4}}\\frac{\\Delta x^{4}}{24}\\\\\n",
    "\\implies &T^{n+1}_{i+1} + T^{n+1}_{i-1} = 2T^{n+1}_{i} + \\frac{\\partial^{2} T}{\\partial x^{2}}\\Delta x^{2} + \\frac{\\partial^{4} T}{\\partial x^{4}}\\frac{\\Delta x^{4}}{12} \\rightarrow \\frac{T^{n+1}_{i+1} + T^{n+1}_{i-1} - 2T^{n+1}_{i}}{\\Delta x^{2}} = \\frac{\\partial^{2} T}{\\partial x^{2}} + \\frac{\\partial^{4} T}{\\partial x^{4}}\\frac{\\Delta x^{2}}{12}\\end{align}$$\n",
    "    * Using big-O notation for the error we get : $$\\frac{T^{n+1}_{i+1} + T^{n+1}_{i-1} - 2T^{n+1}_{i}}{\\Delta x^{2}} = \\frac{\\partial^{2} T}{\\partial x^{2}} + O(\\Delta x^{2})$$\n",
    "    \n",
    "* this allows the equation to formulate to: $$\\frac{T^{n+1}_{i} - T^{n}_{i}}{\\Delta t} - O(\\Delta t) = \\alpha\\frac{T^{n+1}_{i+1} + T^{n+1}_{i-1} - 2T^{n+1}_{i}}{\\Delta x^{2}} - \\alpha O(\\Delta x^{2})\\\\\n",
    "\\implies T^{n+1}_{i} = T^{n}_{i} + \\alpha \\Delta t \\frac{T^{n+1}_{i+1} + T^{n+1}_{i-1} - 2T^{n+1}_{i}}{\\Delta x^{2}} + \\Delta t [O(\\Delta t) - \\alpha O(\\Delta x^{2})]$$\n",
    "    * you can ignore the error term and end up with: $$T^{n+1}_{i} = T^{n}_{i} + \\alpha \\Delta t \\frac{T^{n+1}_{i+1} + T^{n+1}_{i-1} - 2T^{n+1}_{i}}{\\Delta x^{2}}$$\n",
    "    \n",
    "* we can rearrange this to: $$-T^{n}_{i}=\\alpha \\Delta t \\frac{T^{n+1}_{i+1} + T^{n+1}_{i-1} - 2T^{n+1}_{i}}{\\Delta x^{2}} - T^{n+1}_{i}$$\n",
    "\n",
    "* from the stencil in the notebook, we know that $T^{n+1}_{i}$ keeps appearing, which leads to a system of equations we can then solve.\n",
    "\n",
    "* followed boundary condition on paper, but may need to experiment some more to fully understand it.\n",
    "\n",
    "* Note: Implicit methods are stable in timesteps. you may also wish to experiment with sparse matrix storage.\n",
    "\n",
    "## Code: \n",
    "all the code will follow this cell. This is to ease runtime and to make sure the scope of all variables remains the same. different iterations of the same code with different values or methods of computing the same solution will be in subsquent cells, while code-notes will be commented like usual."
   ]
  }
 ],
 "metadata": {
  "kernelspec": {
   "display_name": "Python 3",
   "language": "python",
   "name": "python3"
  },
  "language_info": {
   "codemirror_mode": {
    "name": "ipython",
    "version": 3
   },
   "file_extension": ".py",
   "mimetype": "text/x-python",
   "name": "python",
   "nbconvert_exporter": "python",
   "pygments_lexer": "ipython3",
   "version": "3.4.3"
  }
 },
 "nbformat": 4,
 "nbformat_minor": 0
}
