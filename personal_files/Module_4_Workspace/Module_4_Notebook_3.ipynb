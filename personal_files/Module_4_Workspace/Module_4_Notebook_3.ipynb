{
 "cells": [
  {
   "cell_type": "markdown",
   "metadata": {},
   "source": [
    "# Heat Conduction Explicit\n",
    "\n",
    "## Notes:\n",
    "* equation to solve: $$\\frac{\\partial T}{\\partial t} = \\alpha \\left( \\frac{\\partial^{2} T}{\\partial x^{2}} +  \\frac{\\partial^{2} T}{\\partial y^{2}}\\right)$$\n",
    "\n",
    "* want to know how long it takes the center of the chip to go from 20$^{o}$C to 70$^{o}$C given two sides at 100$^{o}$C and the other two sides at 0$^{o}$C\n",
    "\n",
    "* discritizing and not ignoring error terms: $$\\frac{T^{n+1}_{i,j} - T^{n}_{i,j}}{\\Delta t} - O(\\Delta t)= \\alpha \\left( \\frac{T^{n}_{i+1,j} + T^{n}_{i-1,j} - 2T^{n}_{i,j}}{\\Delta x^{2}} -  O(\\Delta x^{2}) + \\frac{T^{n}_{i,j+1} + T^{n}_{i,j-1} - 2T^{n}_{i,j}}{\\Delta y^{2}} -  O(\\Delta y^{2})\\right)$$\n",
    "\n",
    "* rearranging for $T^{n+1}_{i,j}$: $$T^{n+1}_{i,j} = T^{n}_{i,j} + \\Delta t \\left(O(\\Delta t) + \\alpha \\left( \\frac{T^{n}_{i+1,j} + T^{n}_{i-1,j} - 2T^{n}_{i,j}}{\\Delta x^{2}} -  O(\\Delta x^{2}) + \\frac{T^{n}_{i,j+1} + T^{n}_{i,j-1} - 2T^{n}_{i,j}}{\\Delta y^{2}} -  O(\\Delta y^{2})\\right)\\right)$$\n",
    "    * gathering the error terms, we get: $$T^{n+1}_{i,j} = T^{n}_{i,j} + \\frac{\\alpha\\Delta t}{\\Delta x^{2}}\\left(T^{n}_{i+1,j} + T^{n}_{i-1,j} - 2T^{n}_{i,j}\\right) + \\frac{\\alpha\\Delta t}{\\Delta y^{2}}\\left(T^{n}_{i,j+1} + T^{n}_{i,j-1} - 2T^{n}_{i,j}\\right) + \\left(\\Delta tO(\\Delta t)-\\alpha\\Delta tO(\\Delta x^{2})-\\alpha\\Delta tO(\\Delta y^{2})\\right)$$\n",
    "    * like usual, we can ignore the error terms, and get the descritization to be: $$T^{n+1}_{i,j} = T^{n}_{i,j} + \\frac{\\alpha\\Delta t}{\\Delta x^{2}}\\left(T^{n}_{i+1,j} + T^{n}_{i-1,j} - 2T^{n}_{i,j}\\right) + \\frac{\\alpha\\Delta t}{\\Delta y^{2}}\\left(T^{n}_{i,j+1} + T^{n}_{i,j-1} - 2T^{n}_{i,j}\\right)$$\n",
    "    * if we do a square mesh where $\\Delta x = \\Delta y = \\delta$, we can get the following simplification: $$T^{n+1}_{i,j} = T^{n}_{i,j} + \\frac{\\alpha\\Delta t}{\\delta^{2}}\\left(T^{n}_{i+1,j} + T^{n}_{i-1,j} - 2T^{n}_{i,j} + T^{n}_{i,j+1} + T^{n}_{i,j-1} - 2T^{n}_{i,j}\\right)$$\n",
    "    * in that case, our Stability Condition would be: $$\\frac{\\alpha\\Delta t}{\\delta^{2}} < \\frac{1}{4}$$\n",
    "    \n",
    "* use i as y and x as j for this example\n",
    "\n",
    "## Code: \n",
    "all the code will follow this cell. This is to ease runtime and to make sure the scope of all variables remains the same. different iterations of the same code with different values or methods of computing the same solution will be in subsquent cells, while code-notes will be commented like usual."
   ]
  },
  {
   "cell_type": "code",
   "execution_count": null,
   "metadata": {
    "collapsed": true
   },
   "outputs": [],
   "source": [
    "# Basic Imports\n",
    "import numpy\n",
    "from matplotlib import pyplot\n",
    "%matplotlib inline\n",
    "from matplotlib import rcParams\n",
    "rcParams['font.family'] = 'serif'\n",
    "rcParams['font.size'] = 16\n",
    "\n",
    "# Define Main Function\n",
    "def ftcs(T, nt, alpha, dt, dx, dy):\n",
    "\n",
    "    #force j_mid and i_mid to be integers so we can use them as indices\n",
    "    #for the array T\n",
    "    j_mid = int((numpy.shape(T)[0])/2) \n",
    "    i_mid = int((numpy.shape(T)[1])/2)\n",
    "   \n",
    "    for n in range(nt):\n",
    "        Tn = T.copy()\n",
    "        T[1:-1,1:-1] = Tn[1:-1,1:-1] + alpha *\\\n",
    "            (dt/dy**2 * (Tn[2:,1:-1] - 2*Tn[1:-1,1:-1] + Tn[:-2,1:-1]) +\\\n",
    "             dt/dx**2 * (Tn[1:-1,2:] - 2*Tn[1:-1,1:-1] + Tn[1:-1,:-2]))\n",
    "  \n",
    "        # Enforce Neumann BCs\n",
    "        T[-1,:] = T[-2,:]\n",
    "        T[:,-1] = T[:,-2]\n",
    "        \n",
    "        # Check if we reached T=70C\n",
    "        if T[j_mid, i_mid] >= 70:\n",
    "            print (\"Center of plate reached 70C at time {0:.2f}s.\".format(dt*n))\n",
    "            break\n",
    "        \n",
    "    if T[j_mid, i_mid]<70:\n",
    "        print (\"Center has not reached 70C yet, it is only {0:.2f}C.\".format(T[j_mid, i_mid]))\n",
    "        \n",
    "    return T"
   ]
  }
 ],
 "metadata": {
  "kernelspec": {
   "display_name": "Python 3",
   "language": "python",
   "name": "python3"
  },
  "language_info": {
   "codemirror_mode": {
    "name": "ipython",
    "version": 3
   },
   "file_extension": ".py",
   "mimetype": "text/x-python",
   "name": "python",
   "nbconvert_exporter": "python",
   "pygments_lexer": "ipython3",
   "version": "3.4.3"
  }
 },
 "nbformat": 4,
 "nbformat_minor": 0
}
