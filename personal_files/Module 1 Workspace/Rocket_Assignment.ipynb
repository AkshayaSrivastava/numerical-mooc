{
 "cells": [
  {
   "cell_type": "markdown",
   "metadata": {},
   "source": [
    "# Rocket Assigment\n",
    "Taken from: http://openedx.seas.gwu.edu/courses/GW/MAE6286/2014_fall/courseware/8d6f3849ef8342eea94ff329460f72d9/bb72662198c84a48bcdcd158f048df10/\n",
    "\n",
    "First thing to realize is that, based on the questions, this rocket will not make it out of the atmosphere (i.e. there will be a point where gravity and drag overtake this rocket and bring it back down to the ground.). Next, many of the constants are given, and the function for $\\dot{m_P}$ can be given by: $$\\dot{m_p} = \\begin{cases} \n",
    "      20 \\frac{kg}{s} & 0 \\leq t \\leq 5 \\\\\n",
    "      0 & t > 5 \n",
    "   \\end{cases}$$\n",
    "   \n",
    "Based on this we can begin coding:\n",
    "\n",
    "## Start coding!!"
   ]
  },
  {
   "cell_type": "code",
   "execution_count": null,
   "metadata": {
    "collapsed": true
   },
   "outputs": [],
   "source": []
  }
 ],
 "metadata": {
  "kernelspec": {
   "display_name": "Python 3",
   "language": "python",
   "name": "python3"
  },
  "language_info": {
   "codemirror_mode": {
    "name": "ipython",
    "version": 3
   },
   "file_extension": ".py",
   "mimetype": "text/x-python",
   "name": "python",
   "nbconvert_exporter": "python",
   "pygments_lexer": "ipython3",
   "version": "3.4.3"
  }
 },
 "nbformat": 4,
 "nbformat_minor": 0
}
